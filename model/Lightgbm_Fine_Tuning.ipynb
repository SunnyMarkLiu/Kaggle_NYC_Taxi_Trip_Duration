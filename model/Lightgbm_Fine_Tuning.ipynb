{
 "cells": [
  {
   "cell_type": "code",
   "execution_count": 1,
   "metadata": {},
   "outputs": [
    {
     "name": "stderr",
     "output_type": "stream",
     "text": [
      "/usr/local/lib/python2.7/dist-packages/sklearn/cross_validation.py:44: DeprecationWarning: This module was deprecated in version 0.18 in favor of the model_selection module into which all the refactored classes and functions are moved. Also note that the interface of the new CV iterators are different from that of this module. This module will be removed in 0.20.\n",
      "  \"This module will be removed in 0.20.\", DeprecationWarning)\n",
      "/usr/local/lib/python2.7/dist-packages/sklearn/grid_search.py:43: DeprecationWarning: This module was deprecated in version 0.18 in favor of the model_selection module into which all the refactored classes and functions are moved. This module will be removed in 0.20.\n",
      "  DeprecationWarning)\n"
     ]
    }
   ],
   "source": [
    "import os\n",
    "import sys\n",
    "module_path = os.path.abspath(os.path.join('..'))\n",
    "sys.path.append(module_path)\n",
    "\n",
    "# pandas\n",
    "import pandas as pd\n",
    "from pandas import Series,DataFrame\n",
    "\n",
    "# numpy, matplotlib, seaborn\n",
    "import numpy as np\n",
    "import matplotlib.pyplot as plt\n",
    "import seaborn as sns\n",
    "sns.set_style('whitegrid')\n",
    "%matplotlib inline\n",
    "\n",
    "import lightgbm as lgbm\n",
    "from sklearn import cross_validation, metrics   #Additional scklearn functions\n",
    "from sklearn.grid_search import GridSearchCV   # Perforing grid search\n",
    "\n",
    "from IPython.display import display\n",
    "\n",
    "from datetime import timedelta\n",
    "import datetime as dt\n",
    "from utils import data_utils, dataframe_util\n",
    "\n",
    "# remove warnings\n",
    "import warnings\n",
    "warnings.filterwarnings('ignore')"
   ]
  },
  {
   "cell_type": "code",
   "execution_count": 34,
   "metadata": {},
   "outputs": [
    {
     "name": "stdout",
     "output_type": "stream",
     "text": [
      "load dataset from op_scope = 7\n",
      "train: (14587, 98) , test: (625134, 98)\n"
     ]
    }
   ],
   "source": [
    "print 'load dataset from op_scope = {}'.format(7)\n",
    "train, test = data_utils.load_dataset(7)\n",
    "train.drop(['pickup_datetime', 'dropoff_datetime'], axis=1, inplace=True)\n",
    "test.drop(['pickup_datetime', 'dropoff_datetime'], axis=1, inplace=True)\n",
    "\n",
    "random_indexs = np.arange(0, train.shape[0], 100)\n",
    "train = train.iloc[random_indexs, :]\n",
    "\n",
    "train['trip_duration'] = np.log(train['trip_duration'])\n",
    "y_train_all = train['trip_duration']\n",
    "# del train['id']\n",
    "del train['trip_duration']\n",
    "id_test = test['id']\n",
    "# del test['id']\n",
    "\n",
    "train['id'] = train['id'].map(lambda i: int(i[2:]))\n",
    "test['id'] = test['id'].map(lambda i: int(i[2:]))\n",
    "\n",
    "print 'train:', train.shape, ', test:', test.shape"
   ]
  },
  {
   "cell_type": "code",
   "execution_count": 35,
   "metadata": {
    "collapsed": true
   },
   "outputs": [],
   "source": [
    "d_train = lgbm.Dataset(train, label=y_train_all)"
   ]
  },
  {
   "cell_type": "code",
   "execution_count": 36,
   "metadata": {
    "collapsed": true
   },
   "outputs": [],
   "source": [
    "def lgb_rmsle_score(preds, dtrain):\n",
    "    labels = np.exp(dtrain.get_label())\n",
    "    preds = np.exp(preds.clip(min=0))\n",
    "    return 'rmsle', np.sqrt(np.mean(np.square(np.log1p(preds) - np.log1p(labels)))), False\n"
   ]
  },
  {
   "cell_type": "code",
   "execution_count": 37,
   "metadata": {
    "collapsed": true
   },
   "outputs": [],
   "source": [
    "import math\n",
    "\n",
    "def common_num_range(start,stop,step):\n",
    "    \n",
    "    startlen = stoplen = steplen = 0\n",
    "    if '.' in str(start):\n",
    "        startlen = len(str(start)) - str(start).index('.') - 1\n",
    "    if '.' in str(stop):\n",
    "        stoplen = len(str(stop)) - str(stop).index('.') - 1\n",
    "    if '.' in str(step):\n",
    "        steplen = len(str(step)) - str(step).index('.') - 1\n",
    "    \n",
    "    maxlen = startlen\n",
    "    if stoplen > maxlen:\n",
    "        maxlen = stoplen\n",
    "    if steplen > maxlen:\n",
    "        maxlen = steplen\n",
    "    \n",
    "    power = math.pow(10, maxlen)\n",
    "    \n",
    "    if startlen == 0 and stoplen == 0 and steplen == 0:\n",
    "        return range(start, stop, step)\n",
    "    else:\n",
    "        return [num / power for num in range(int(start*power), int(stop*power), int(step*power))]"
   ]
  },
  {
   "cell_type": "markdown",
   "metadata": {},
   "source": [
    "## Baseline Lightgbm"
   ]
  },
  {
   "cell_type": "code",
   "execution_count": 40,
   "metadata": {
    "collapsed": true
   },
   "outputs": [],
   "source": [
    "lgbm_params = {\n",
    "        'boosting_type': 'gbdt',\n",
    "        'objective': 'regression',\n",
    "        'nthread': -1,\n",
    "        'num_leaves': 2 ** 4,\n",
    "        'learning_rate': 0.05,\n",
    "        'max_depth': -1,\n",
    "#         'max_bin': 255,\n",
    "#         'subsample_for_bin': 50000,\n",
    "        'subsample': 0.8,\n",
    "        'subsample_freq': 1,\n",
    "        'colsample_bytree': 0.6,\n",
    "        'reg_alpha': 1,\n",
    "        'reg_lambda': 0,\n",
    "        'min_split_gain': 0.5,\n",
    "        'min_child_weight': 1,\n",
    "        'min_child_samples': 10,\n",
    "        'scale_pos_weight': 1,\n",
    "        'early_stopping_round': 20,\n",
    "        'metric': 'rmsle',\n",
    "        'verbose': 0\n",
    "    }"
   ]
  },
  {
   "cell_type": "code",
   "execution_count": 41,
   "metadata": {},
   "outputs": [
    {
     "name": "stdout",
     "output_type": "stream",
     "text": [
      "[50]\tcv_agg's rmsle: 0.427718 + 0.00978353\n"
     ]
    }
   ],
   "source": [
    "cv_results = lgbm.cv(lgbm_params,\n",
    "                     d_train,\n",
    "                     num_boost_round=50,\n",
    "                     nfold=3,\n",
    "                     feval=lgb_rmsle_score,\n",
    "                     early_stopping_rounds=300,\n",
    "                     verbose_eval=50)"
   ]
  },
  {
   "cell_type": "markdown",
   "metadata": {},
   "source": [
    "## Param Fine Tuning"
   ]
  },
  {
   "cell_type": "code",
   "execution_count": 50,
   "metadata": {
    "collapsed": true
   },
   "outputs": [],
   "source": [
    "def fine_tune_param_cv(lgbm_params, param, values):\n",
    "    print lgbm_params\n",
    "    print '===> fine tuning {}...'.format(param)\n",
    "    min_test_rmse_mean = 100\n",
    "    best_value = lgbm_params[param]\n",
    "    for value in values:\n",
    "        print 'fine tuning {} = {}'.format(param, value)\n",
    "        lgbm_params[param] = value\n",
    "        cv_results = lgbm.cv(lgbm_params,\n",
    "                     d_train,\n",
    "                     num_boost_round=50,\n",
    "                     nfold=3,\n",
    "                     feval=lgb_rmsle_score,\n",
    "                     early_stopping_rounds=300,\n",
    "                     verbose_eval=50)\n",
    "        \n",
    "        test_rmse_mean = cv_results['rmsle-mean'][-1]\n",
    "        print \"CV RMSE : test_rmse_mean = %.7g\" % (test_rmse_mean)\n",
    "        if test_rmse_mean < min_test_rmse_mean:\n",
    "            min_test_rmse_mean = test_rmse_mean\n",
    "            best_value = value\n",
    "    \n",
    "    print 'best {} = {}, min_test_rmse_mean = {}'.format(param, best_value, min_test_rmse_mean)\n",
    "    return lgbm_params, best_value"
   ]
  },
  {
   "cell_type": "code",
   "execution_count": 54,
   "metadata": {
    "collapsed": true
   },
   "outputs": [],
   "source": [
    "lgbm_params = {\n",
    "        'boosting_type': 'gbdt',\n",
    "        'objective': 'regression',\n",
    "        'nthread': -1,\n",
    "    \n",
    "        'num_leaves': 2 ** 6,\n",
    "        'learning_rate': 0.05,\n",
    "        'max_depth': 10,\n",
    "#         'max_bin': 255,\n",
    "#         'subsample_for_bin': 50000,\n",
    "        'subsample': 0.8,\n",
    "        'subsample_freq': 1,\n",
    "        'colsample_bytree': 0.6,\n",
    "        'reg_alpha': 1,\n",
    "        'reg_lambda': 0,\n",
    "        'min_split_gain': 0.5,\n",
    "        'min_child_weight': 1,\n",
    "        'min_child_samples': 10,\n",
    "        'scale_pos_weight': 1,\n",
    "        'early_stopping_round': 20,\n",
    "        'metric': 'rmsle',\n",
    "        'verbose': 0\n",
    "    }"
   ]
  },
  {
   "cell_type": "code",
   "execution_count": 55,
   "metadata": {
    "scrolled": true
   },
   "outputs": [
    {
     "name": "stdout",
     "output_type": "stream",
     "text": [
      "{'num_leaves': 64, 'reg_alpha': 1, 'subsample_freq': 1, 'colsample_bytree': 0.6, 'early_stopping_round': 20, 'scale_pos_weight': 1, 'learning_rate': 0.05, 'nthread': -1, 'min_child_weight': 1, 'min_split_gain': 0.5, 'subsample': 0.8, 'reg_lambda': 0, 'objective': 'regression', 'verbose': 0, 'min_child_samples': 10, 'max_depth': 10, 'metric': 'rmsle', 'boosting_type': 'gbdt'}\n",
      "===> fine tuning subsample...\n",
      "fine tuning subsample = 0.6\n",
      "[50]\tcv_agg's rmsle: 0.418398 + 0.00926433\n",
      "CV RMSE : test_rmse_mean = 0.4183985\n",
      "fine tuning subsample = 0.65\n",
      "[50]\tcv_agg's rmsle: 0.41858 + 0.0107418\n",
      "CV RMSE : test_rmse_mean = 0.4185804\n",
      "fine tuning subsample = 0.7\n",
      "[50]\tcv_agg's rmsle: 0.418276 + 0.010378\n",
      "CV RMSE : test_rmse_mean = 0.4182758\n",
      "fine tuning subsample = 0.75\n",
      "[50]\tcv_agg's rmsle: 0.416846 + 0.0102225\n",
      "CV RMSE : test_rmse_mean = 0.4168464\n",
      "fine tuning subsample = 0.8\n",
      "[50]\tcv_agg's rmsle: 0.419552 + 0.0100412\n",
      "CV RMSE : test_rmse_mean = 0.419552\n",
      "fine tuning subsample = 0.85\n"
     ]
    },
    {
     "ename": "KeyboardInterrupt",
     "evalue": "",
     "output_type": "error",
     "traceback": [
      "\u001b[0;31m\u001b[0m",
      "\u001b[0;31mKeyboardInterrupt\u001b[0mTraceback (most recent call last)",
      "\u001b[0;32m<ipython-input-55-453d4a6265d8>\u001b[0m in \u001b[0;36m<module>\u001b[0;34m()\u001b[0m\n\u001b[0;32m----> 1\u001b[0;31m \u001b[0m_\u001b[0m \u001b[0;34m=\u001b[0m \u001b[0mfine_tune_param_cv\u001b[0m\u001b[0;34m(\u001b[0m\u001b[0mlgbm_params\u001b[0m\u001b[0;34m,\u001b[0m \u001b[0;34m'subsample'\u001b[0m\u001b[0;34m,\u001b[0m \u001b[0mcommon_num_range\u001b[0m\u001b[0;34m(\u001b[0m\u001b[0;36m0.6\u001b[0m\u001b[0;34m,\u001b[0m \u001b[0;36m76\u001b[0m\u001b[0;34m,\u001b[0m \u001b[0;36m0.05\u001b[0m\u001b[0;34m)\u001b[0m\u001b[0;34m)\u001b[0m\u001b[0;34m\u001b[0m\u001b[0m\n\u001b[0m",
      "\u001b[0;32m<ipython-input-50-453923196002>\u001b[0m in \u001b[0;36mfine_tune_param_cv\u001b[0;34m(lgbm_params, param, values)\u001b[0m\n\u001b[1;32m     13\u001b[0m                      \u001b[0mfeval\u001b[0m\u001b[0;34m=\u001b[0m\u001b[0mlgb_rmsle_score\u001b[0m\u001b[0;34m,\u001b[0m\u001b[0;34m\u001b[0m\u001b[0m\n\u001b[1;32m     14\u001b[0m                      \u001b[0mearly_stopping_rounds\u001b[0m\u001b[0;34m=\u001b[0m\u001b[0;36m300\u001b[0m\u001b[0;34m,\u001b[0m\u001b[0;34m\u001b[0m\u001b[0m\n\u001b[0;32m---> 15\u001b[0;31m                      verbose_eval=50)\n\u001b[0m\u001b[1;32m     16\u001b[0m \u001b[0;34m\u001b[0m\u001b[0m\n\u001b[1;32m     17\u001b[0m         \u001b[0mtest_rmse_mean\u001b[0m \u001b[0;34m=\u001b[0m \u001b[0mcv_results\u001b[0m\u001b[0;34m[\u001b[0m\u001b[0;34m'rmsle-mean'\u001b[0m\u001b[0;34m]\u001b[0m\u001b[0;34m[\u001b[0m\u001b[0;34m-\u001b[0m\u001b[0;36m1\u001b[0m\u001b[0;34m]\u001b[0m\u001b[0;34m\u001b[0m\u001b[0m\n",
      "\u001b[0;32m/usr/local/lib/python2.7/dist-packages/lightgbm/engine.pyc\u001b[0m in \u001b[0;36mcv\u001b[0;34m(params, train_set, num_boost_round, folds, nfold, stratified, shuffle, metrics, fobj, feval, init_model, feature_name, categorical_feature, early_stopping_rounds, fpreproc, verbose_eval, show_stdv, seed, callbacks)\u001b[0m\n\u001b[1;32m    440\u001b[0m                                     \u001b[0mend_iteration\u001b[0m\u001b[0;34m=\u001b[0m\u001b[0mnum_boost_round\u001b[0m\u001b[0;34m,\u001b[0m\u001b[0;34m\u001b[0m\u001b[0m\n\u001b[1;32m    441\u001b[0m                                     evaluation_result_list=None))\n\u001b[0;32m--> 442\u001b[0;31m         \u001b[0mcvfolds\u001b[0m\u001b[0;34m.\u001b[0m\u001b[0mupdate\u001b[0m\u001b[0;34m(\u001b[0m\u001b[0mfobj\u001b[0m\u001b[0;34m=\u001b[0m\u001b[0mfobj\u001b[0m\u001b[0;34m)\u001b[0m\u001b[0;34m\u001b[0m\u001b[0m\n\u001b[0m\u001b[1;32m    443\u001b[0m         \u001b[0mres\u001b[0m \u001b[0;34m=\u001b[0m \u001b[0m_agg_cv_result\u001b[0m\u001b[0;34m(\u001b[0m\u001b[0mcvfolds\u001b[0m\u001b[0;34m.\u001b[0m\u001b[0meval_valid\u001b[0m\u001b[0;34m(\u001b[0m\u001b[0mfeval\u001b[0m\u001b[0;34m)\u001b[0m\u001b[0;34m)\u001b[0m\u001b[0;34m\u001b[0m\u001b[0m\n\u001b[1;32m    444\u001b[0m         \u001b[0;32mfor\u001b[0m \u001b[0m_\u001b[0m\u001b[0;34m,\u001b[0m \u001b[0mkey\u001b[0m\u001b[0;34m,\u001b[0m \u001b[0mmean\u001b[0m\u001b[0;34m,\u001b[0m \u001b[0m_\u001b[0m\u001b[0;34m,\u001b[0m \u001b[0mstd\u001b[0m \u001b[0;32min\u001b[0m \u001b[0mres\u001b[0m\u001b[0;34m:\u001b[0m\u001b[0;34m\u001b[0m\u001b[0m\n",
      "\u001b[0;32m/usr/local/lib/python2.7/dist-packages/lightgbm/engine.pyc\u001b[0m in \u001b[0;36mhandlerFunction\u001b[0;34m(*args, **kwargs)\u001b[0m\n\u001b[1;32m    244\u001b[0m             \u001b[0mret\u001b[0m \u001b[0;34m=\u001b[0m \u001b[0;34m[\u001b[0m\u001b[0;34m]\u001b[0m\u001b[0;34m\u001b[0m\u001b[0m\n\u001b[1;32m    245\u001b[0m             \u001b[0;32mfor\u001b[0m \u001b[0mbooster\u001b[0m \u001b[0;32min\u001b[0m \u001b[0mself\u001b[0m\u001b[0;34m.\u001b[0m\u001b[0mboosters\u001b[0m\u001b[0;34m:\u001b[0m\u001b[0;34m\u001b[0m\u001b[0m\n\u001b[0;32m--> 246\u001b[0;31m                 \u001b[0mret\u001b[0m\u001b[0;34m.\u001b[0m\u001b[0mappend\u001b[0m\u001b[0;34m(\u001b[0m\u001b[0mgetattr\u001b[0m\u001b[0;34m(\u001b[0m\u001b[0mbooster\u001b[0m\u001b[0;34m,\u001b[0m \u001b[0mname\u001b[0m\u001b[0;34m)\u001b[0m\u001b[0;34m(\u001b[0m\u001b[0;34m*\u001b[0m\u001b[0margs\u001b[0m\u001b[0;34m,\u001b[0m \u001b[0;34m**\u001b[0m\u001b[0mkwargs\u001b[0m\u001b[0;34m)\u001b[0m\u001b[0;34m)\u001b[0m\u001b[0;34m\u001b[0m\u001b[0m\n\u001b[0m\u001b[1;32m    247\u001b[0m             \u001b[0;32mreturn\u001b[0m \u001b[0mret\u001b[0m\u001b[0;34m\u001b[0m\u001b[0m\n\u001b[1;32m    248\u001b[0m         \u001b[0;32mreturn\u001b[0m \u001b[0mhandlerFunction\u001b[0m\u001b[0;34m\u001b[0m\u001b[0m\n",
      "\u001b[0;32m/usr/local/lib/python2.7/dist-packages/lightgbm/basic.pyc\u001b[0m in \u001b[0;36mupdate\u001b[0;34m(self, train_set, fobj)\u001b[0m\n\u001b[1;32m   1414\u001b[0m             _safe_call(_LIB.LGBM_BoosterUpdateOneIter(\n\u001b[1;32m   1415\u001b[0m                 \u001b[0mself\u001b[0m\u001b[0;34m.\u001b[0m\u001b[0mhandle\u001b[0m\u001b[0;34m,\u001b[0m\u001b[0;34m\u001b[0m\u001b[0m\n\u001b[0;32m-> 1416\u001b[0;31m                 ctypes.byref(is_finished)))\n\u001b[0m\u001b[1;32m   1417\u001b[0m             \u001b[0mself\u001b[0m\u001b[0;34m.\u001b[0m\u001b[0m__is_predicted_cur_iter\u001b[0m \u001b[0;34m=\u001b[0m \u001b[0;34m[\u001b[0m\u001b[0mFalse\u001b[0m \u001b[0;32mfor\u001b[0m \u001b[0m_\u001b[0m \u001b[0;32min\u001b[0m \u001b[0mrange_\u001b[0m\u001b[0;34m(\u001b[0m\u001b[0mself\u001b[0m\u001b[0;34m.\u001b[0m\u001b[0m__num_dataset\u001b[0m\u001b[0;34m)\u001b[0m\u001b[0;34m]\u001b[0m\u001b[0;34m\u001b[0m\u001b[0m\n\u001b[1;32m   1418\u001b[0m             \u001b[0;32mreturn\u001b[0m \u001b[0mis_finished\u001b[0m\u001b[0;34m.\u001b[0m\u001b[0mvalue\u001b[0m \u001b[0;34m==\u001b[0m \u001b[0;36m1\u001b[0m\u001b[0;34m\u001b[0m\u001b[0m\n",
      "\u001b[0;31mKeyboardInterrupt\u001b[0m: "
     ]
    }
   ],
   "source": [
    "_ = fine_tune_param_cv(lgbm_params, 'subsample', common_num_range(0.6, 0.76, 0.05))"
   ]
  },
  {
   "cell_type": "code",
   "execution_count": 60,
   "metadata": {
    "collapsed": true
   },
   "outputs": [],
   "source": [
    "lgbm_params = {\n",
    "        'boosting_type': 'gbdt',\n",
    "        'objective': 'regression',\n",
    "        'nthread': -1,\n",
    "        'subsample': 0.75,\n",
    "        'subsample_freq': 1,\n",
    "    \n",
    "        'num_leaves': 2 ** 6,\n",
    "        'learning_rate': 0.05,\n",
    "        'max_depth': 10,\n",
    "#         'max_bin': 255,\n",
    "#         'subsample_for_bin': 50000,\n",
    "        \n",
    "        'colsample_bytree': 0.6,\n",
    "        'reg_alpha': 1,\n",
    "        'reg_lambda': 0,\n",
    "        'min_split_gain': 0.5,\n",
    "        'min_child_weight': 1,\n",
    "        'min_child_samples': 10,\n",
    "        'scale_pos_weight': 1,\n",
    "        'early_stopping_round': 20,\n",
    "        'metric': 'rmsle',\n",
    "        'verbose': 0\n",
    "    }"
   ]
  },
  {
   "cell_type": "code",
   "execution_count": 61,
   "metadata": {},
   "outputs": [
    {
     "name": "stdout",
     "output_type": "stream",
     "text": [
      "{'num_leaves': 64, 'reg_alpha': 1, 'subsample_freq': 1, 'colsample_bytree': 0.6, 'early_stopping_round': 20, 'scale_pos_weight': 1, 'learning_rate': 0.05, 'nthread': -1, 'min_child_weight': 1, 'min_split_gain': 0.5, 'subsample': 0.75, 'reg_lambda': 0, 'objective': 'regression', 'verbose': 0, 'min_child_samples': 10, 'max_depth': 10, 'metric': 'rmsle', 'boosting_type': 'gbdt'}\n",
      "===> fine tuning colsample_bytree...\n",
      "fine tuning colsample_bytree = 0.6\n",
      "[50]\tcv_agg's rmsle: 0.416846 + 0.0102225\n",
      "CV RMSE : test_rmse_mean = 0.4168464\n",
      "fine tuning colsample_bytree = 0.65\n",
      "[50]\tcv_agg's rmsle: 0.417083 + 0.0109581\n",
      "CV RMSE : test_rmse_mean = 0.4170834\n",
      "best colsample_bytree = 0.6, min_test_rmse_mean = 0.416846391977\n"
     ]
    }
   ],
   "source": [
    "_ = fine_tune_param_cv(lgbm_params, 'colsample_bytree', common_num_range(0.6, 0.7, 0.05))"
   ]
  },
  {
   "cell_type": "code",
   "execution_count": 62,
   "metadata": {
    "collapsed": true
   },
   "outputs": [],
   "source": [
    "lgbm_params = {\n",
    "        'boosting_type': 'gbdt',\n",
    "        'objective': 'regression',\n",
    "        'nthread': -1,\n",
    "        'subsample': 0.75,\n",
    "        'subsample_freq': 1,\n",
    "        'colsample_bytree': 0.6,\n",
    "    \n",
    "        'num_leaves': 2 ** 6,\n",
    "        'learning_rate': 0.05,\n",
    "        'max_depth': 10,\n",
    "#         'max_bin': 255,\n",
    "#         'subsample_for_bin': 50000,\n",
    "        \n",
    "        'reg_alpha': 1,\n",
    "        'reg_lambda': 0,\n",
    "        'min_split_gain': 0.5,\n",
    "        'min_child_weight': 1,\n",
    "        'min_child_samples': 10,\n",
    "        'scale_pos_weight': 1,\n",
    "        'early_stopping_round': 20,\n",
    "        'metric': 'rmsle',\n",
    "        'verbose': 0\n",
    "    }"
   ]
  },
  {
   "cell_type": "code",
   "execution_count": 63,
   "metadata": {},
   "outputs": [
    {
     "name": "stdout",
     "output_type": "stream",
     "text": [
      "{'num_leaves': 64, 'reg_alpha': 1, 'subsample_freq': 1, 'colsample_bytree': 0.6, 'early_stopping_round': 20, 'scale_pos_weight': 1, 'learning_rate': 0.05, 'nthread': -1, 'min_child_weight': 1, 'min_split_gain': 0.5, 'subsample': 0.75, 'reg_lambda': 0, 'objective': 'regression', 'verbose': 0, 'min_child_samples': 10, 'max_depth': 10, 'metric': 'rmsle', 'boosting_type': 'gbdt'}\n",
      "===> fine tuning max_depth...\n",
      "fine tuning max_depth = 8\n",
      "[50]\tcv_agg's rmsle: 0.417636 + 0.0107109\n",
      "CV RMSE : test_rmse_mean = 0.4176359\n",
      "fine tuning max_depth = 10\n",
      "[50]\tcv_agg's rmsle: 0.416846 + 0.0102225\n",
      "CV RMSE : test_rmse_mean = 0.4168464\n",
      "fine tuning max_depth = 12\n",
      "[50]\tcv_agg's rmsle: 0.417239 + 0.0103711\n",
      "CV RMSE : test_rmse_mean = 0.4172391\n",
      "fine tuning max_depth = 14\n",
      "[50]\tcv_agg's rmsle: 0.417241 + 0.0100959\n",
      "CV RMSE : test_rmse_mean = 0.4172415\n",
      "best max_depth = 10, min_test_rmse_mean = 0.416846391977\n"
     ]
    }
   ],
   "source": [
    "_ = fine_tune_param_cv(lgbm_params, 'max_depth', [8,10,12,14])"
   ]
  },
  {
   "cell_type": "code",
   "execution_count": 64,
   "metadata": {
    "collapsed": true
   },
   "outputs": [],
   "source": [
    "lgbm_params = {\n",
    "        'boosting_type': 'gbdt',\n",
    "        'objective': 'regression',\n",
    "        'nthread': -1,\n",
    "        'subsample': 0.75,\n",
    "        'subsample_freq': 1,\n",
    "        'colsample_bytree': 0.6,\n",
    "    \n",
    "        'num_leaves': 2 ** 6,\n",
    "        'learning_rate': 0.05,\n",
    "        'max_depth': 10,\n",
    "#         'max_bin': 255,\n",
    "#         'subsample_for_bin': 50000,\n",
    "        \n",
    "        'reg_alpha': 1,\n",
    "        'reg_lambda': 0,\n",
    "        'min_split_gain': 0.5,\n",
    "        'min_child_weight': 1,\n",
    "        'min_child_samples': 10,\n",
    "        'scale_pos_weight': 1,\n",
    "        'early_stopping_round': 20,\n",
    "        'metric': 'rmsle',\n",
    "        'verbose': 0\n",
    "    }"
   ]
  },
  {
   "cell_type": "code",
   "execution_count": 65,
   "metadata": {},
   "outputs": [
    {
     "name": "stdout",
     "output_type": "stream",
     "text": [
      "{'num_leaves': 64, 'reg_alpha': 1, 'subsample_freq': 1, 'colsample_bytree': 0.6, 'early_stopping_round': 20, 'scale_pos_weight': 1, 'learning_rate': 0.05, 'nthread': -1, 'min_child_weight': 1, 'min_split_gain': 0.5, 'subsample': 0.75, 'reg_lambda': 0, 'objective': 'regression', 'verbose': 0, 'min_child_samples': 10, 'max_depth': 10, 'metric': 'rmsle', 'boosting_type': 'gbdt'}\n",
      "===> fine tuning num_leaves...\n",
      "fine tuning num_leaves = 64\n",
      "[50]\tcv_agg's rmsle: 0.416846 + 0.0102225\n",
      "CV RMSE : test_rmse_mean = 0.4168464\n",
      "fine tuning num_leaves = 128\n",
      "[50]\tcv_agg's rmsle: 0.417186 + 0.0100136\n",
      "CV RMSE : test_rmse_mean = 0.4171859\n",
      "fine tuning num_leaves = 256\n",
      "[50]\tcv_agg's rmsle: 0.417506 + 0.00922725\n",
      "CV RMSE : test_rmse_mean = 0.4175057\n",
      "fine tuning num_leaves = 512\n",
      "[50]\tcv_agg's rmsle: 0.417506 + 0.00922725\n",
      "CV RMSE : test_rmse_mean = 0.4175057\n",
      "best num_leaves = 64, min_test_rmse_mean = 0.416846391977\n"
     ]
    }
   ],
   "source": [
    "_ = fine_tune_param_cv(lgbm_params, 'num_leaves', [2 ** 6, 2 ** 7, 2 ** 8, 2 ** 9])"
   ]
  },
  {
   "cell_type": "code",
   "execution_count": 68,
   "metadata": {
    "collapsed": true
   },
   "outputs": [],
   "source": [
    "lgbm_params = {\n",
    "        'boosting_type': 'gbdt',\n",
    "        'objective': 'regression',\n",
    "        'nthread': -1,\n",
    "        'subsample': 0.75,\n",
    "        'subsample_freq': 1,\n",
    "        'colsample_bytree': 0.6,\n",
    "    \n",
    "        'num_leaves': 2 ** 6,\n",
    "        'learning_rate': 0.05,\n",
    "        'max_depth': 14,\n",
    "#         'max_bin': 255,\n",
    "#         'subsample_for_bin': 50000,\n",
    "        \n",
    "        'reg_alpha': 1,\n",
    "        'reg_lambda': 0,\n",
    "        'min_split_gain': 0.5,\n",
    "        'min_child_weight': 1,\n",
    "        'min_child_samples': 10,\n",
    "        'scale_pos_weight': 1,\n",
    "        'early_stopping_round': 20,\n",
    "        'metric': 'rmsle',\n",
    "        'verbose': 0\n",
    "    }"
   ]
  },
  {
   "cell_type": "code",
   "execution_count": 69,
   "metadata": {},
   "outputs": [
    {
     "name": "stdout",
     "output_type": "stream",
     "text": [
      "{'num_leaves': 64, 'reg_alpha': 1, 'subsample_freq': 1, 'colsample_bytree': 0.6, 'early_stopping_round': 20, 'scale_pos_weight': 1, 'learning_rate': 0.05, 'nthread': -1, 'min_child_weight': 1, 'min_split_gain': 0.5, 'subsample': 0.75, 'reg_lambda': 0, 'objective': 'regression', 'verbose': 0, 'min_child_samples': 10, 'max_depth': 14, 'metric': 'rmsle', 'boosting_type': 'gbdt'}\n",
      "===> fine tuning num_leaves...\n",
      "fine tuning num_leaves = 64\n",
      "[50]\tcv_agg's rmsle: 0.417241 + 0.0100959\n",
      "CV RMSE : test_rmse_mean = 0.4172415\n",
      "fine tuning num_leaves = 128\n",
      "[50]\tcv_agg's rmsle: 0.417514 + 0.0102657\n",
      "CV RMSE : test_rmse_mean = 0.4175136\n",
      "fine tuning num_leaves = 256\n",
      "[50]\tcv_agg's rmsle: 0.417219 + 0.0111645\n",
      "CV RMSE : test_rmse_mean = 0.4172192\n",
      "fine tuning num_leaves = 512\n",
      "[50]\tcv_agg's rmsle: 0.417219 + 0.0111645\n",
      "CV RMSE : test_rmse_mean = 0.4172192\n",
      "best num_leaves = 256, min_test_rmse_mean = 0.417219162206\n"
     ]
    }
   ],
   "source": [
    "_ = fine_tune_param_cv(lgbm_params, 'num_leaves', [2 ** 6, 2 ** 7, 2 ** 8, 2 ** 9])"
   ]
  },
  {
   "cell_type": "code",
   "execution_count": 79,
   "metadata": {
    "collapsed": true
   },
   "outputs": [],
   "source": [
    "lgbm_params = {\n",
    "        'boosting_type': 'gbdt',\n",
    "        'objective': 'regression',\n",
    "        'nthread': -1,\n",
    "        'subsample': 0.75,\n",
    "        'subsample_freq': 1,\n",
    "        'colsample_bytree': 0.6,\n",
    "    \n",
    "        'num_leaves': 2 ** 6,\n",
    "        'learning_rate': 0.05,\n",
    "        'max_depth': 10,\n",
    "        \n",
    "        'reg_alpha': 1,\n",
    "        'reg_lambda': 0,\n",
    "        'min_split_gain': 0.5,\n",
    "        'min_child_weight': 1,\n",
    "        'min_child_samples': 10,\n",
    "        'scale_pos_weight': 1,\n",
    "        'early_stopping_round': 20,\n",
    "        'metric': 'rmsle',\n",
    "        'verbose': 0\n",
    "    }"
   ]
  },
  {
   "cell_type": "code",
   "execution_count": 80,
   "metadata": {},
   "outputs": [
    {
     "name": "stdout",
     "output_type": "stream",
     "text": [
      "{'num_leaves': 64, 'reg_alpha': 1, 'subsample_freq': 1, 'colsample_bytree': 0.6, 'early_stopping_round': 20, 'scale_pos_weight': 1, 'learning_rate': 0.05, 'nthread': -1, 'min_child_weight': 1, 'min_split_gain': 0.5, 'subsample': 0.75, 'reg_lambda': 0, 'objective': 'regression', 'verbose': 0, 'min_child_samples': 10, 'max_depth': 10, 'metric': 'rmsle', 'boosting_type': 'gbdt'}\n",
      "===> fine tuning min_split_gain...\n",
      "fine tuning min_split_gain = 0.3\n",
      "[50]\tcv_agg's rmsle: 0.41662 + 0.00985629\n",
      "CV RMSE : test_rmse_mean = 0.4166198\n",
      "fine tuning min_split_gain = 0.4\n",
      "[50]\tcv_agg's rmsle: 0.416193 + 0.00968524\n",
      "CV RMSE : test_rmse_mean = 0.4161932\n",
      "best min_split_gain = 0.4, min_test_rmse_mean = 0.416193170302\n"
     ]
    }
   ],
   "source": [
    "_ = fine_tune_param_cv(lgbm_params, 'min_split_gain', [0.3, 0.4])"
   ]
  },
  {
   "cell_type": "code",
   "execution_count": 88,
   "metadata": {
    "collapsed": true
   },
   "outputs": [],
   "source": [
    "lgbm_params = {\n",
    "        'boosting_type': 'gbdt',\n",
    "        'objective': 'regression',\n",
    "        'nthread': -1,\n",
    "        'subsample': 0.75,\n",
    "        'subsample_freq': 1,\n",
    "        'colsample_bytree': 0.6,\n",
    "        'min_split_gain': 0.4,\n",
    "    \n",
    "        'num_leaves': 2 ** 6,\n",
    "        'learning_rate': 0.05,\n",
    "        'max_depth': 10,\n",
    "        \n",
    "        'reg_alpha': 0.1,\n",
    "        'reg_lambda': 0,\n",
    "        \n",
    "        'scale_pos_weight': 1,\n",
    "        'early_stopping_round': 20,\n",
    "        'metric': 'rmsle',\n",
    "        'verbose': 0\n",
    "    }"
   ]
  },
  {
   "cell_type": "code",
   "execution_count": 90,
   "metadata": {},
   "outputs": [
    {
     "name": "stdout",
     "output_type": "stream",
     "text": [
      "{'num_leaves': 64, 'reg_alpha': 0.1, 'subsample_freq': 1, 'colsample_bytree': 0.6, 'scale_pos_weight': 1, 'learning_rate': 0.05, 'nthread': -1, 'min_split_gain': 0.4, 'subsample': 0.75, 'reg_lambda': 10, 'objective': 'regression', 'verbose': 0, 'max_depth': 10, 'metric': 'rmsle', 'boosting_type': 'gbdt'}\n",
      "===> fine tuning reg_lambda...\n",
      "fine tuning reg_lambda = 0\n",
      "[50]\tcv_agg's rmsle: 0.414976 + 0.0106041\n",
      "CV RMSE : test_rmse_mean = 0.4149757\n",
      "fine tuning reg_lambda = 0.01\n",
      "[50]\tcv_agg's rmsle: 0.415468 + 0.0104646\n",
      "CV RMSE : test_rmse_mean = 0.4154676\n",
      "fine tuning reg_lambda = 0.1\n",
      "[50]\tcv_agg's rmsle: 0.414419 + 0.0104\n",
      "CV RMSE : test_rmse_mean = 0.4144187\n",
      "best reg_lambda = 0.1, min_test_rmse_mean = 0.414418724084\n"
     ]
    }
   ],
   "source": [
    "_ = fine_tune_param_cv(lgbm_params, 'reg_lambda', [0, 0.01, 0.1])"
   ]
  },
  {
   "cell_type": "markdown",
   "metadata": {},
   "source": [
    "```\n",
    "lgbm_params = {\n",
    "        'boosting_type': 'gbdt',\n",
    "        'objective': 'regression',\n",
    "        'nthread': -1,\n",
    "        'subsample': 0.75,\n",
    "        'subsample_freq': 1,\n",
    "        'colsample_bytree': 0.6,\n",
    "        'min_split_gain': 0.4,\n",
    "    \n",
    "        'num_leaves': 2 ** 6,\n",
    "        'learning_rate': 0.05,\n",
    "        'max_depth': 10,\n",
    "        \n",
    "        'reg_alpha': 0.1,\n",
    "        'reg_lambda': 0.1,\n",
    "        \n",
    "        'scale_pos_weight': 1,\n",
    "        'early_stopping_round': 20,\n",
    "        'metric': 'rmsle',\n",
    "        'verbose': 0\n",
    "    }\n",
    "```"
   ]
  },
  {
   "cell_type": "code",
   "execution_count": null,
   "metadata": {
    "collapsed": true
   },
   "outputs": [],
   "source": []
  }
 ],
 "metadata": {
  "kernelspec": {
   "display_name": "Python 2",
   "language": "python",
   "name": "python2"
  },
  "language_info": {
   "codemirror_mode": {
    "name": "ipython",
    "version": 2
   },
   "file_extension": ".py",
   "mimetype": "text/x-python",
   "name": "python",
   "nbconvert_exporter": "python",
   "pygments_lexer": "ipython2",
   "version": "2.7.6"
  }
 },
 "nbformat": 4,
 "nbformat_minor": 2
}
