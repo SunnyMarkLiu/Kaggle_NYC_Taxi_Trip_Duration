{
 "cells": [
  {
   "cell_type": "code",
   "execution_count": 2,
   "metadata": {},
   "outputs": [],
   "source": [
    "import os\n",
    "import sys\n",
    "module_path = os.path.abspath(os.path.join('..'))\n",
    "sys.path.append(module_path)\n",
    "\n",
    "# pandas\n",
    "import pandas as pd\n",
    "from pandas import Series,DataFrame\n",
    "\n",
    "# numpy, matplotlib, seaborn\n",
    "import numpy as np\n",
    "import matplotlib.pyplot as plt\n",
    "import seaborn as sns\n",
    "sns.set_style('whitegrid')\n",
    "%matplotlib inline\n",
    "\n",
    "import xgboost as xgb  #GBM algorithm\n",
    "from xgboost import XGBRegressor\n",
    "from sklearn import cross_validation, metrics   #Additional scklearn functions\n",
    "from sklearn.grid_search import GridSearchCV   # Perforing grid search\n",
    "\n",
    "from IPython.display import display\n",
    "\n",
    "from datetime import timedelta\n",
    "import datetime as dt\n",
    "from utils import data_utils, dataframe_util\n",
    "\n",
    "# remove warnings\n",
    "import warnings\n",
    "warnings.filterwarnings('ignore')"
   ]
  },
  {
   "cell_type": "code",
   "execution_count": 3,
   "metadata": {},
   "outputs": [
    {
     "name": "stdout",
     "output_type": "stream",
     "text": [
      "train: (1458644, 152), test: (625134, 151)\n"
     ]
    }
   ],
   "source": [
    "train, test = data_utils.load_dataset(op_scope='6')\n",
    "print 'train: {}, test: {}'.format(train.shape, test.shape)"
   ]
  },
  {
   "cell_type": "code",
   "execution_count": 4,
   "metadata": {
    "collapsed": true
   },
   "outputs": [],
   "source": [
    "train.drop(['pickup_datetime', 'dropoff_datetime'], axis=1, inplace=True)\n",
    "test.drop(['pickup_datetime', 'dropoff_datetime'], axis=1, inplace=True)"
   ]
  },
  {
   "cell_type": "code",
   "execution_count": 5,
   "metadata": {
    "collapsed": true
   },
   "outputs": [],
   "source": [
    "random_indexs = np.arange(0, train.shape[0], 10)\n",
    "train = train.iloc[random_indexs, :]"
   ]
  },
  {
   "cell_type": "code",
   "execution_count": 6,
   "metadata": {
    "collapsed": true
   },
   "outputs": [],
   "source": [
    "train['trip_duration'] = np.log(train['trip_duration'])\n",
    "y_train_all = train['trip_duration']\n",
    "del train['id']\n",
    "del train['trip_duration']\n",
    "id_test = test['id']\n",
    "del test['id']"
   ]
  },
  {
   "cell_type": "code",
   "execution_count": 14,
   "metadata": {
    "collapsed": true
   },
   "outputs": [],
   "source": [
    "train_X = train\n",
    "train_Y = y_train_all\n",
    "test_X = test"
   ]
  },
  {
   "cell_type": "code",
   "execution_count": 9,
   "metadata": {},
   "outputs": [
    {
     "name": "stdout",
     "output_type": "stream",
     "text": [
      "train: (145865, 148) , test: (625134, 148)\n"
     ]
    }
   ],
   "source": [
    "print 'train:', train.shape, ', test:', test.shape\n",
    "train_rmses = []\n",
    "val_rmses = []\n",
    "num_boost_roundses = []\n",
    "\n",
    "X_test = test\n",
    "df_columns = train.columns.values\n",
    "\n",
    "dtrain = xgb.DMatrix(train, y_train_all, feature_names=df_columns)\n",
    "dtest = xgb.DMatrix(X_test, feature_names=df_columns)"
   ]
  },
  {
   "cell_type": "code",
   "execution_count": 10,
   "metadata": {
    "collapsed": true
   },
   "outputs": [],
   "source": [
    "import math\n",
    "\n",
    "def common_num_range(start,stop,step):\n",
    "    \n",
    "    startlen = stoplen = steplen = 0\n",
    "    if '.' in str(start):\n",
    "        startlen = len(str(start)) - str(start).index('.') - 1\n",
    "    if '.' in str(stop):\n",
    "        stoplen = len(str(stop)) - str(stop).index('.') - 1\n",
    "    if '.' in str(step):\n",
    "        steplen = len(str(step)) - str(step).index('.') - 1\n",
    "    \n",
    "    maxlen = startlen\n",
    "    if stoplen > maxlen:\n",
    "        maxlen = stoplen\n",
    "    if steplen > maxlen:\n",
    "        maxlen = steplen\n",
    "    \n",
    "    power = math.pow(10, maxlen)\n",
    "    \n",
    "    if startlen == 0 and stoplen == 0 and steplen == 0:\n",
    "        return range(start, stop, step)\n",
    "    else:\n",
    "        return [num / power for num in range(int(start*power), int(stop*power), int(step*power))]"
   ]
  },
  {
   "cell_type": "markdown",
   "metadata": {},
   "source": [
    "## Parameters Tuning Plan\n",
    "The overall parameters can be divided into 3 categories:\n",
    "\n",
    "- General Parameters: Guide the overall functioning\n",
    "- Booster Parameters: Guide the individual booster (tree/regression) at each step\n",
    "- Learning Task Parameters: Guide the optimization performed\n",
    "\n",
    "In XGBRegressor:\n",
    "```\n",
    "class xgboost.XGBRegressor(max_depth=3, learning_rate=0.1, n_estimators=100, silent=True, objective='reg:linear', nthread=-1, gamma=0, min_child_weight=1, max_delta_step=0, subsample=1, colsample_bytree=1, colsample_bylevel=1, reg_alpha=0, reg_lambda=1, scale_pos_weight=1, base_score=0.5, seed=0, missing=None)\n",
    "```"
   ]
  },
  {
   "cell_type": "markdown",
   "metadata": {},
   "source": [
    "### Baseline XGBRegressor"
   ]
  },
  {
   "cell_type": "code",
   "execution_count": 69,
   "metadata": {
    "collapsed": true
   },
   "outputs": [],
   "source": [
    "xgb_params = {\n",
    "    'eta': 0.01,\n",
    "    'max_depth': 3,\n",
    "    'subsample': 0.93,\n",
    "    'gamma': 0,\n",
    "    'min_child_weight': 1,\n",
    "    'colsample_bytree': 1,\n",
    "    'reg_alpha': 1,\n",
    "    'reg_lambda': 1,\n",
    "    'scale_pos_weight': 1,\n",
    "\n",
    "    'objective': 'reg:linear',\n",
    "    'eval_metric': 'rmse',\n",
    "    'updater': 'grow_gpu',\n",
    "    'gpu_id': 1,\n",
    "    'nthread': -1,\n",
    "    'silent': 1\n",
    "}"
   ]
  },
  {
   "cell_type": "code",
   "execution_count": 56,
   "metadata": {},
   "outputs": [
    {
     "name": "stdout",
     "output_type": "stream",
     "text": [
      "[0]\ttrain-rmse:5.95731\ttest-rmse:5.95732\n",
      "[50]\ttrain-rmse:3.62518\ttest-rmse:3.62525\n",
      "[100]\ttrain-rmse:2.22451\ttest-rmse:2.22475\n",
      "[150]\ttrain-rmse:1.39302\ttest-rmse:1.39353\n",
      "[200]\ttrain-rmse:0.912873\ttest-rmse:0.913843\n",
      "[250]\ttrain-rmse:0.648812\ttest-rmse:0.650737\n",
      "[299]\ttrain-rmse:0.524055\ttest-rmse:0.526594\n"
     ]
    }
   ],
   "source": [
    "cv_result = xgb.cv(dict(xgb_params),\n",
    "                   dtrain,\n",
    "                   num_boost_round=300,\n",
    "                   early_stopping_rounds=50,\n",
    "                   verbose_eval=50,\n",
    "                   show_stdv=False\n",
    "                   )"
   ]
  },
  {
   "cell_type": "code",
   "execution_count": 57,
   "metadata": {
    "scrolled": true
   },
   "outputs": [
    {
     "name": "stdout",
     "output_type": "stream",
     "text": [
      "CV RMSE : train_rmse_mean = 0.5240547 | test_rmse_mean = 0.5265943\n"
     ]
    }
   ],
   "source": [
    "train_rmse_mean = cv_result['train-rmse-mean'].values[-1]\n",
    "test_rmse_mean = cv_result['test-rmse-mean'].values[-1]\n",
    "\n",
    "print \"CV RMSE : train_rmse_mean = %.7g | test_rmse_mean = %.7g\" % (train_rmse_mean, test_rmse_mean)"
   ]
  },
  {
   "cell_type": "code",
   "execution_count": 70,
   "metadata": {
    "collapsed": true
   },
   "outputs": [],
   "source": [
    "def fine_tune_param_cv(xgb_params, param, values):\n",
    "    print xgb_params\n",
    "    print '===> fine tuning {}...'.format(param)\n",
    "    min_test_rmse_mean = 100\n",
    "    best_value = xgb_params[param]\n",
    "    for value in values:\n",
    "        print 'fine tuning {} = {}'.format(param, value)\n",
    "        xgb_params[param] = value\n",
    "        cv_result = xgb.cv(dict(xgb_params),\n",
    "                       dtrain,\n",
    "                       num_boost_round=300,\n",
    "                       early_stopping_rounds=50,\n",
    "                       verbose_eval=50,\n",
    "                       show_stdv=False\n",
    "                       )\n",
    "        train_rmse_mean = cv_result['train-rmse-mean'].values[-1]\n",
    "        test_rmse_mean = cv_result['test-rmse-mean'].values[-1]\n",
    "        print \"CV RMSE : train_rmse_mean = %.7g | test_rmse_mean = %.7g\" % (train_rmse_mean, test_rmse_mean)\n",
    "        if test_rmse_mean < min_test_rmse_mean:\n",
    "            min_test_rmse_mean = test_rmse_mean\n",
    "            best_value = value\n",
    "    \n",
    "    print 'best {} = {}, min_test_rmse_mean = {}'.format(param, best_value, min_test_rmse_mean)\n",
    "    return xgb_params, best_value"
   ]
  },
  {
   "cell_type": "markdown",
   "metadata": {},
   "source": [
    "### Tune max_depth and min_child_weight\n",
    "- min_child_weight: Used to control over-fitting. Higher values prevent a model from learning relations which might be highly specific to the particular sample selected for a tree. Too high values can lead to under-fitting. 刚开始不要太大,先尽可能的\"过拟合\",再调整这个参数"
   ]
  },
  {
   "cell_type": "code",
   "execution_count": 72,
   "metadata": {
    "scrolled": false
   },
   "outputs": [
    {
     "name": "stdout",
     "output_type": "stream",
     "text": [
      "{'reg_alpha': 1, 'eval_metric': 'rmse', 'scale_pos_weight': 1, 'gpu_id': 1, 'updater': 'grow_gpu', 'colsample_bytree': 1, 'silent': 1, 'nthread': -1, 'min_child_weight': 1, 'subsample': 0.93, 'reg_lambda': 1, 'eta': 0.01, 'objective': 'reg:linear', 'max_depth': 14, 'gamma': 0}\n",
      "===> fine tuning max_depth...\n",
      "fine tuning max_depth = 8\n",
      "[0]\ttrain-rmse:5.95724\ttest-rmse:5.95725\n",
      "[50]\ttrain-rmse:3.62117\ttest-rmse:3.62206\n",
      "[100]\ttrain-rmse:2.21527\ttest-rmse:2.21771\n",
      "[150]\ttrain-rmse:1.37623\ttest-rmse:1.38162\n",
      "[200]\ttrain-rmse:0.88544\ttest-rmse:0.896288\n",
      "[250]\ttrain-rmse:0.610251\ttest-rmse:0.629517\n",
      "[299]\ttrain-rmse:0.468319\ttest-rmse:0.49735\n",
      "CV RMSE : train_rmse_mean = 0.4683187 | test_rmse_mean = 0.4973503\n",
      "fine tuning max_depth = 9\n",
      "[0]\ttrain-rmse:5.95724\ttest-rmse:5.95725\n",
      "[50]\ttrain-rmse:3.62093\ttest-rmse:3.62202\n",
      "[100]\ttrain-rmse:2.21477\ttest-rmse:2.2178\n",
      "[150]\ttrain-rmse:1.37535\ttest-rmse:1.38213\n",
      "[200]\ttrain-rmse:0.883157\ttest-rmse:0.896964\n",
      "[250]\ttrain-rmse:0.605318\ttest-rmse:0.630063\n",
      "[299]\ttrain-rmse:0.459935\ttest-rmse:0.497638\n",
      "CV RMSE : train_rmse_mean = 0.459935 | test_rmse_mean = 0.4976383\n",
      "fine tuning max_depth = 10\n",
      "[0]\ttrain-rmse:5.95724\ttest-rmse:5.95725\n",
      "[50]\ttrain-rmse:3.62085\ttest-rmse:3.62209\n",
      "[100]\ttrain-rmse:2.21445\ttest-rmse:2.21794\n",
      "[150]\ttrain-rmse:1.37458\ttest-rmse:1.38241\n",
      "[200]\ttrain-rmse:0.881284\ttest-rmse:0.897429\n",
      "[250]\ttrain-rmse:0.600884\ttest-rmse:0.630262\n",
      "[299]\ttrain-rmse:0.452331\ttest-rmse:0.497516\n",
      "CV RMSE : train_rmse_mean = 0.4523307 | test_rmse_mean = 0.4975157\n",
      "fine tuning max_depth = 11\n",
      "[0]\ttrain-rmse:5.95724\ttest-rmse:5.95725\n",
      "[50]\ttrain-rmse:3.62079\ttest-rmse:3.62213\n",
      "[100]\ttrain-rmse:2.21434\ttest-rmse:2.21822\n",
      "[150]\ttrain-rmse:1.37407\ttest-rmse:1.38288\n",
      "[200]\ttrain-rmse:0.879757\ttest-rmse:0.898045\n",
      "[250]\ttrain-rmse:0.597469\ttest-rmse:0.631226\n",
      "[299]\ttrain-rmse:0.446033\ttest-rmse:0.498458\n",
      "CV RMSE : train_rmse_mean = 0.4460333 | test_rmse_mean = 0.498458\n",
      "best max_depth = 8, min_test_rmse_mean = 0.497350333333\n"
     ]
    }
   ],
   "source": [
    "xgb_params = fine_tune_param_cv(xgb_params, 'max_depth', common_num_range(8, 12, 1))"
   ]
  },
  {
   "cell_type": "code",
   "execution_count": 84,
   "metadata": {
    "collapsed": true
   },
   "outputs": [],
   "source": [
    "xgb_params = {\n",
    "    'eta': 0.01,\n",
    "    'subsample': 0.93,\n",
    "    \n",
    "    'min_child_weight': 1,\n",
    "    'colsample_bytree': 1,\n",
    "    'reg_alpha': 1,\n",
    "    'reg_lambda': 1,\n",
    "    'scale_pos_weight': 1,\n",
    "\n",
    "    'gamma': 0,\n",
    "    'max_depth': 8,\n",
    "    'objective': 'reg:linear',\n",
    "    'eval_metric': 'rmse',\n",
    "    'updater': 'grow_gpu',\n",
    "    'gpu_id': 1,\n",
    "    'nthread': -1,\n",
    "    'silent': 1\n",
    "}"
   ]
  },
  {
   "cell_type": "code",
   "execution_count": 85,
   "metadata": {},
   "outputs": [
    {
     "name": "stdout",
     "output_type": "stream",
     "text": [
      "{'reg_alpha': 1, 'eval_metric': 'rmse', 'scale_pos_weight': 1, 'gpu_id': 1, 'updater': 'grow_gpu', 'colsample_bytree': 1, 'silent': 1, 'nthread': -1, 'min_child_weight': 1, 'subsample': 0.93, 'reg_lambda': 1, 'eta': 0.01, 'objective': 'reg:linear', 'max_depth': 8, 'gamma': 0}\n",
      "===> fine tuning subsample...\n",
      "fine tuning subsample = 0.92\n",
      "[0]\ttrain-rmse:5.95731\ttest-rmse:5.95735\n",
      "[50]\ttrain-rmse:3.62119\ttest-rmse:3.62215\n",
      "[100]\ttrain-rmse:2.21527\ttest-rmse:2.21771\n",
      "[150]\ttrain-rmse:1.37646\ttest-rmse:1.38191\n",
      "[200]\ttrain-rmse:0.88574\ttest-rmse:0.896708\n",
      "[250]\ttrain-rmse:0.610293\ttest-rmse:0.629739\n",
      "[299]\ttrain-rmse:0.468328\ttest-rmse:0.497591\n",
      "CV RMSE : train_rmse_mean = 0.468328 | test_rmse_mean = 0.497591\n",
      "fine tuning subsample = 0.93\n",
      "[0]\ttrain-rmse:5.95724\ttest-rmse:5.95725\n",
      "[50]\ttrain-rmse:3.62117\ttest-rmse:3.62206\n",
      "[100]\ttrain-rmse:2.21527\ttest-rmse:2.21771\n",
      "[150]\ttrain-rmse:1.37623\ttest-rmse:1.38162\n",
      "[200]\ttrain-rmse:0.88544\ttest-rmse:0.896288\n",
      "[250]\ttrain-rmse:0.610251\ttest-rmse:0.629517\n",
      "[299]\ttrain-rmse:0.468319\ttest-rmse:0.49735\n",
      "CV RMSE : train_rmse_mean = 0.4683187 | test_rmse_mean = 0.4973503\n",
      "fine tuning subsample = 0.94\n",
      "[0]\ttrain-rmse:5.95724\ttest-rmse:5.95725\n",
      "[50]\ttrain-rmse:3.62102\ttest-rmse:3.62188\n",
      "[100]\ttrain-rmse:2.21517\ttest-rmse:2.21752\n",
      "[150]\ttrain-rmse:1.37641\ttest-rmse:1.38173\n",
      "[200]\ttrain-rmse:0.885675\ttest-rmse:0.896591\n",
      "[250]\ttrain-rmse:0.610134\ttest-rmse:0.629527\n",
      "[299]\ttrain-rmse:0.468106\ttest-rmse:0.497355\n",
      "CV RMSE : train_rmse_mean = 0.4681057 | test_rmse_mean = 0.4973547\n",
      "best subsample = 0.93, min_test_rmse_mean = 0.497350333333\n"
     ]
    }
   ],
   "source": [
    "xgb_params = fine_tune_param_cv(xgb_params, 'subsample', common_num_range(0.92, 0.95, 0.01))"
   ]
  },
  {
   "cell_type": "code",
   "execution_count": 89,
   "metadata": {
    "collapsed": true
   },
   "outputs": [],
   "source": [
    "xgb_params = {\n",
    "    'eta': 0.01,\n",
    "    'min_child_weight': 1,\n",
    "    'colsample_bytree': 1,\n",
    "    'reg_alpha': 1,\n",
    "    'reg_lambda': 1,\n",
    "    'scale_pos_weight': 1,\n",
    "\n",
    "    'subsample': 0.93,\n",
    "    'gamma': 0,\n",
    "    'max_depth': 8,\n",
    "    'objective': 'reg:linear',\n",
    "    'eval_metric': 'rmse',\n",
    "    'updater': 'grow_gpu',\n",
    "    'gpu_id': 1,\n",
    "    'nthread': -1,\n",
    "    'silent': 1\n",
    "}"
   ]
  },
  {
   "cell_type": "code",
   "execution_count": 90,
   "metadata": {},
   "outputs": [
    {
     "name": "stdout",
     "output_type": "stream",
     "text": [
      "{'reg_alpha': 1, 'eval_metric': 'rmse', 'scale_pos_weight': 1, 'gpu_id': 1, 'updater': 'grow_gpu', 'colsample_bytree': 1, 'silent': 1, 'nthread': -1, 'min_child_weight': 1, 'subsample': 0.93, 'reg_lambda': 1, 'eta': 0.01, 'objective': 'reg:linear', 'max_depth': 8, 'gamma': 0}\n",
      "===> fine tuning colsample_bytree...\n",
      "fine tuning colsample_bytree = 0.7\n",
      "[0]\ttrain-rmse:5.95726\ttest-rmse:5.95727\n",
      "[50]\ttrain-rmse:3.62102\ttest-rmse:3.6219\n",
      "[100]\ttrain-rmse:2.21556\ttest-rmse:2.21794\n",
      "[150]\ttrain-rmse:1.37676\ttest-rmse:1.38204\n",
      "[200]\ttrain-rmse:0.886347\ttest-rmse:0.896846\n",
      "[250]\ttrain-rmse:0.611286\ttest-rmse:0.62984\n",
      "[299]\ttrain-rmse:0.469332\ttest-rmse:0.497482\n",
      "CV RMSE : train_rmse_mean = 0.469332 | test_rmse_mean = 0.497482\n",
      "fine tuning colsample_bytree = 0.8\n",
      "[0]\ttrain-rmse:5.95725\ttest-rmse:5.95726\n",
      "[50]\ttrain-rmse:3.62097\ttest-rmse:3.62185\n",
      "[100]\ttrain-rmse:2.21527\ttest-rmse:2.21766\n",
      "[150]\ttrain-rmse:1.37639\ttest-rmse:1.38169\n",
      "[200]\ttrain-rmse:0.886007\ttest-rmse:0.896599\n",
      "[250]\ttrain-rmse:0.610806\ttest-rmse:0.629612\n",
      "[299]\ttrain-rmse:0.46877\ttest-rmse:0.497387\n",
      "CV RMSE : train_rmse_mean = 0.46877 | test_rmse_mean = 0.4973867\n",
      "fine tuning colsample_bytree = 0.9\n",
      "[0]\ttrain-rmse:5.95725\ttest-rmse:5.95725\n",
      "[50]\ttrain-rmse:3.62121\ttest-rmse:3.62215\n",
      "[100]\ttrain-rmse:2.21508\ttest-rmse:2.21755\n",
      "[150]\ttrain-rmse:1.37645\ttest-rmse:1.38187\n",
      "[200]\ttrain-rmse:0.885859\ttest-rmse:0.896753\n",
      "[250]\ttrain-rmse:0.610434\ttest-rmse:0.629665\n",
      "[299]\ttrain-rmse:0.468438\ttest-rmse:0.497504\n",
      "CV RMSE : train_rmse_mean = 0.4684383 | test_rmse_mean = 0.4975043\n",
      "fine tuning colsample_bytree = 1.0\n",
      "[0]\ttrain-rmse:5.95724\ttest-rmse:5.95725\n",
      "[50]\ttrain-rmse:3.62117\ttest-rmse:3.62206\n",
      "[100]\ttrain-rmse:2.21527\ttest-rmse:2.21771\n",
      "[150]\ttrain-rmse:1.37623\ttest-rmse:1.38162\n",
      "[200]\ttrain-rmse:0.88544\ttest-rmse:0.896288\n",
      "[250]\ttrain-rmse:0.610251\ttest-rmse:0.629517\n",
      "[299]\ttrain-rmse:0.468319\ttest-rmse:0.49735\n",
      "CV RMSE : train_rmse_mean = 0.4683187 | test_rmse_mean = 0.4973503\n",
      "best colsample_bytree = 1.0, min_test_rmse_mean = 0.497350333333\n"
     ]
    }
   ],
   "source": [
    "xgb_params = fine_tune_param_cv(xgb_params, 'colsample_bytree', common_num_range(0.7, 1.1, 0.1))"
   ]
  },
  {
   "cell_type": "code",
   "execution_count": 91,
   "metadata": {
    "collapsed": true
   },
   "outputs": [],
   "source": [
    "xgb_params = {\n",
    "    'eta': 0.01,\n",
    "    'min_child_weight': 1,\n",
    "    'reg_alpha': 1,\n",
    "    'reg_lambda': 1,\n",
    "    \n",
    "    'scale_pos_weight': 1,\n",
    "    'colsample_bytree': 1,\n",
    "    'subsample': 0.93,\n",
    "    'gamma': 0,\n",
    "    'max_depth': 8,\n",
    "    'objective': 'reg:linear',\n",
    "    'eval_metric': 'rmse',\n",
    "    'updater': 'grow_gpu',\n",
    "    'gpu_id': 1,\n",
    "    'nthread': -1,\n",
    "    'silent': 1\n",
    "}"
   ]
  },
  {
   "cell_type": "code",
   "execution_count": 92,
   "metadata": {},
   "outputs": [
    {
     "name": "stdout",
     "output_type": "stream",
     "text": [
      "{'reg_alpha': 1, 'eval_metric': 'rmse', 'scale_pos_weight': 1, 'gpu_id': 1, 'updater': 'grow_gpu', 'colsample_bytree': 1, 'silent': 1, 'nthread': -1, 'min_child_weight': 1, 'subsample': 0.93, 'reg_lambda': 1, 'eta': 0.01, 'objective': 'reg:linear', 'max_depth': 8, 'gamma': 0}\n",
      "===> fine tuning scale_pos_weight...\n",
      "fine tuning scale_pos_weight = 0.7\n",
      "[0]\ttrain-rmse:5.95724\ttest-rmse:5.95725\n",
      "[50]\ttrain-rmse:3.62117\ttest-rmse:3.62206\n",
      "[100]\ttrain-rmse:2.21527\ttest-rmse:2.21771\n",
      "[150]\ttrain-rmse:1.37623\ttest-rmse:1.38162\n",
      "[200]\ttrain-rmse:0.88544\ttest-rmse:0.896288\n",
      "[250]\ttrain-rmse:0.610251\ttest-rmse:0.629517\n",
      "[299]\ttrain-rmse:0.468319\ttest-rmse:0.49735\n",
      "CV RMSE : train_rmse_mean = 0.4683187 | test_rmse_mean = 0.4973503\n",
      "fine tuning scale_pos_weight = 0.8\n",
      "[0]\ttrain-rmse:5.95724\ttest-rmse:5.95725\n",
      "[50]\ttrain-rmse:3.62117\ttest-rmse:3.62206\n",
      "[100]\ttrain-rmse:2.21527\ttest-rmse:2.21771\n",
      "[150]\ttrain-rmse:1.37623\ttest-rmse:1.38162\n",
      "[200]\ttrain-rmse:0.88544\ttest-rmse:0.896288\n",
      "[250]\ttrain-rmse:0.610251\ttest-rmse:0.629517\n",
      "[299]\ttrain-rmse:0.468319\ttest-rmse:0.49735\n",
      "CV RMSE : train_rmse_mean = 0.4683187 | test_rmse_mean = 0.4973503\n",
      "fine tuning scale_pos_weight = 0.9\n",
      "[0]\ttrain-rmse:5.95724\ttest-rmse:5.95725\n",
      "[50]\ttrain-rmse:3.62117\ttest-rmse:3.62206\n",
      "[100]\ttrain-rmse:2.21527\ttest-rmse:2.21771\n",
      "[150]\ttrain-rmse:1.37623\ttest-rmse:1.38162\n",
      "[200]\ttrain-rmse:0.88544\ttest-rmse:0.896288\n",
      "[250]\ttrain-rmse:0.610251\ttest-rmse:0.629517\n",
      "[299]\ttrain-rmse:0.468319\ttest-rmse:0.49735\n",
      "CV RMSE : train_rmse_mean = 0.4683187 | test_rmse_mean = 0.4973503\n",
      "fine tuning scale_pos_weight = 1.0\n",
      "[0]\ttrain-rmse:5.95724\ttest-rmse:5.95725\n",
      "[50]\ttrain-rmse:3.62117\ttest-rmse:3.62206\n",
      "[100]\ttrain-rmse:2.21527\ttest-rmse:2.21771\n",
      "[150]\ttrain-rmse:1.37623\ttest-rmse:1.38162\n",
      "[200]\ttrain-rmse:0.88544\ttest-rmse:0.896288\n",
      "[250]\ttrain-rmse:0.610251\ttest-rmse:0.629517\n",
      "[299]\ttrain-rmse:0.468319\ttest-rmse:0.49735\n",
      "CV RMSE : train_rmse_mean = 0.4683187 | test_rmse_mean = 0.4973503\n",
      "best scale_pos_weight = 0.7, min_test_rmse_mean = 0.497350333333\n"
     ]
    }
   ],
   "source": [
    "xgb_params = fine_tune_param_cv(xgb_params, 'scale_pos_weight', common_num_range(0.7, 1.1, 0.1))"
   ]
  },
  {
   "cell_type": "code",
   "execution_count": 101,
   "metadata": {
    "collapsed": true
   },
   "outputs": [],
   "source": [
    "xgb_params = {\n",
    "    'eta': 0.01,\n",
    "    'min_child_weight': 1,\n",
    "    'reg_alpha': 1,\n",
    "    'reg_lambda': 1,\n",
    "    \n",
    "    'scale_pos_weight': 1,\n",
    "    'colsample_bytree': 1,\n",
    "    'subsample': 0.93,\n",
    "    'gamma': 0,\n",
    "    'max_depth': 8,\n",
    "    'objective': 'reg:linear',\n",
    "    'eval_metric': 'rmse',\n",
    "    'updater': 'grow_gpu',\n",
    "    'gpu_id': 1,\n",
    "    'nthread': -1,\n",
    "    'silent': 1\n",
    "}"
   ]
  },
  {
   "cell_type": "code",
   "execution_count": 102,
   "metadata": {},
   "outputs": [
    {
     "name": "stdout",
     "output_type": "stream",
     "text": [
      "{'reg_alpha': 1, 'eval_metric': 'rmse', 'scale_pos_weight': 1, 'gpu_id': 1, 'updater': 'grow_gpu', 'colsample_bytree': 1, 'silent': 1, 'nthread': -1, 'min_child_weight': 1, 'subsample': 0.93, 'reg_lambda': 1, 'eta': 0.01, 'objective': 'reg:linear', 'max_depth': 8, 'gamma': 0}\n",
      "===> fine tuning reg_alpha...\n",
      "fine tuning reg_alpha = 0.005\n",
      "[0]\ttrain-rmse:5.95724\ttest-rmse:5.95725\n",
      "[50]\ttrain-rmse:3.62096\ttest-rmse:3.62195\n",
      "[100]\ttrain-rmse:2.21433\ttest-rmse:2.21708\n",
      "[150]\ttrain-rmse:1.37452\ttest-rmse:1.3809\n",
      "[200]\ttrain-rmse:0.882233\ttest-rmse:0.895301\n",
      "[250]\ttrain-rmse:0.605042\ttest-rmse:0.62813\n",
      "[299]\ttrain-rmse:0.461715\ttest-rmse:0.496174\n",
      "CV RMSE : train_rmse_mean = 0.461715 | test_rmse_mean = 0.496174\n",
      "fine tuning reg_alpha = 0.0055\n",
      "[0]\ttrain-rmse:5.95724\ttest-rmse:5.95725\n",
      "[50]\ttrain-rmse:3.62097\ttest-rmse:3.62197\n",
      "[100]\ttrain-rmse:2.21419\ttest-rmse:2.21699\n",
      "[150]\ttrain-rmse:1.37453\ttest-rmse:1.381\n",
      "[200]\ttrain-rmse:0.882311\ttest-rmse:0.895372\n",
      "[250]\ttrain-rmse:0.605213\ttest-rmse:0.628252\n",
      "[299]\ttrain-rmse:0.461832\ttest-rmse:0.496144\n",
      "CV RMSE : train_rmse_mean = 0.461832 | test_rmse_mean = 0.496144\n",
      "fine tuning reg_alpha = 0.006\n",
      "[0]\ttrain-rmse:5.95724\ttest-rmse:5.95725\n",
      "[50]\ttrain-rmse:3.62086\ttest-rmse:3.62182\n",
      "[100]\ttrain-rmse:2.21426\ttest-rmse:2.217\n",
      "[150]\ttrain-rmse:1.37459\ttest-rmse:1.38097\n",
      "[200]\ttrain-rmse:0.882333\ttest-rmse:0.89536\n",
      "[250]\ttrain-rmse:0.605254\ttest-rmse:0.628212\n",
      "[299]\ttrain-rmse:0.461904\ttest-rmse:0.496175\n",
      "CV RMSE : train_rmse_mean = 0.4619037 | test_rmse_mean = 0.4961753\n",
      "fine tuning reg_alpha = 0.0065\n",
      "[0]\ttrain-rmse:5.95724\ttest-rmse:5.95725\n",
      "[50]\ttrain-rmse:3.62086\ttest-rmse:3.62189\n",
      "[100]\ttrain-rmse:2.21454\ttest-rmse:2.21735\n",
      "[150]\ttrain-rmse:1.37465\ttest-rmse:1.3811\n",
      "[200]\ttrain-rmse:0.882233\ttest-rmse:0.895302\n",
      "[250]\ttrain-rmse:0.605105\ttest-rmse:0.628206\n",
      "[299]\ttrain-rmse:0.461651\ttest-rmse:0.49617\n",
      "CV RMSE : train_rmse_mean = 0.4616513 | test_rmse_mean = 0.4961703\n",
      "fine tuning reg_alpha = 0.007\n",
      "[0]\ttrain-rmse:5.95724\ttest-rmse:5.95725\n",
      "[50]\ttrain-rmse:3.6208\ttest-rmse:3.62179\n",
      "[100]\ttrain-rmse:2.21452\ttest-rmse:2.2173\n",
      "[150]\ttrain-rmse:1.37466\ttest-rmse:1.38107\n",
      "[200]\ttrain-rmse:0.882318\ttest-rmse:0.895365\n",
      "[250]\ttrain-rmse:0.605135\ttest-rmse:0.628139\n",
      "[299]\ttrain-rmse:0.461758\ttest-rmse:0.496135\n",
      "CV RMSE : train_rmse_mean = 0.4617583 | test_rmse_mean = 0.4961347\n",
      "fine tuning reg_alpha = 0.0075\n",
      "[0]\ttrain-rmse:5.95724\ttest-rmse:5.95725\n",
      "[50]\ttrain-rmse:3.62078\ttest-rmse:3.62175\n",
      "[100]\ttrain-rmse:2.21419\ttest-rmse:2.21703\n",
      "[150]\ttrain-rmse:1.37446\ttest-rmse:1.38092\n",
      "[200]\ttrain-rmse:0.882288\ttest-rmse:0.89539\n",
      "[250]\ttrain-rmse:0.60525\ttest-rmse:0.628306\n",
      "[299]\ttrain-rmse:0.461922\ttest-rmse:0.496266\n",
      "CV RMSE : train_rmse_mean = 0.461922 | test_rmse_mean = 0.496266\n",
      "fine tuning reg_alpha = 0.008\n",
      "[0]\ttrain-rmse:5.95724\ttest-rmse:5.95725\n",
      "[50]\ttrain-rmse:3.62089\ttest-rmse:3.62186\n",
      "[100]\ttrain-rmse:2.21423\ttest-rmse:2.21703\n",
      "[150]\ttrain-rmse:1.3745\ttest-rmse:1.38098\n",
      "[200]\ttrain-rmse:0.882308\ttest-rmse:0.895402\n",
      "[250]\ttrain-rmse:0.605225\ttest-rmse:0.628288\n",
      "[299]\ttrain-rmse:0.461957\ttest-rmse:0.496195\n",
      "CV RMSE : train_rmse_mean = 0.461957 | test_rmse_mean = 0.4961953\n",
      "fine tuning reg_alpha = 0.0085\n",
      "[0]\ttrain-rmse:5.95724\ttest-rmse:5.95725\n",
      "[50]\ttrain-rmse:3.621\ttest-rmse:3.62198\n",
      "[100]\ttrain-rmse:2.21434\ttest-rmse:2.21708\n",
      "[150]\ttrain-rmse:1.37457\ttest-rmse:1.38098\n",
      "[200]\ttrain-rmse:0.882369\ttest-rmse:0.895364\n",
      "[250]\ttrain-rmse:0.605186\ttest-rmse:0.628189\n",
      "[299]\ttrain-rmse:0.461892\ttest-rmse:0.496179\n",
      "CV RMSE : train_rmse_mean = 0.461892 | test_rmse_mean = 0.496179\n",
      "fine tuning reg_alpha = 0.009\n",
      "[0]\ttrain-rmse:5.95724\ttest-rmse:5.95725\n",
      "[50]\ttrain-rmse:3.62091\ttest-rmse:3.6219\n",
      "[100]\ttrain-rmse:2.21421\ttest-rmse:2.21701\n",
      "[150]\ttrain-rmse:1.37446\ttest-rmse:1.38096\n",
      "[200]\ttrain-rmse:0.882223\ttest-rmse:0.895406\n",
      "[250]\ttrain-rmse:0.605186\ttest-rmse:0.6283\n",
      "[299]\ttrain-rmse:0.461902\ttest-rmse:0.496288\n",
      "CV RMSE : train_rmse_mean = 0.461902 | test_rmse_mean = 0.496288\n",
      "fine tuning reg_alpha = 0.0095\n",
      "[0]\ttrain-rmse:5.95724\ttest-rmse:5.95725\n",
      "[50]\ttrain-rmse:3.621\ttest-rmse:3.62196\n",
      "[100]\ttrain-rmse:2.21465\ttest-rmse:2.21741\n",
      "[150]\ttrain-rmse:1.37468\ttest-rmse:1.38109\n",
      "[200]\ttrain-rmse:0.882413\ttest-rmse:0.895372\n",
      "[250]\ttrain-rmse:0.605205\ttest-rmse:0.628135\n",
      "[299]\ttrain-rmse:0.46178\ttest-rmse:0.49602\n",
      "CV RMSE : train_rmse_mean = 0.4617803 | test_rmse_mean = 0.4960197\n",
      "fine tuning reg_alpha = 0.01\n",
      "[0]\ttrain-rmse:5.95724\ttest-rmse:5.95725\n",
      "[50]\ttrain-rmse:3.62088\ttest-rmse:3.62186\n",
      "[100]\ttrain-rmse:2.21448\ttest-rmse:2.2173\n",
      "[150]\ttrain-rmse:1.37466\ttest-rmse:1.38113\n",
      "[200]\ttrain-rmse:0.882227\ttest-rmse:0.895278\n",
      "[250]\ttrain-rmse:0.605112\ttest-rmse:0.628199\n",
      "[299]\ttrain-rmse:0.461737\ttest-rmse:0.496129\n",
      "CV RMSE : train_rmse_mean = 0.461737 | test_rmse_mean = 0.496129\n",
      "fine tuning reg_alpha = 0.0105\n",
      "[0]\ttrain-rmse:5.95724\ttest-rmse:5.95725\n",
      "[50]\ttrain-rmse:3.6208\ttest-rmse:3.62178\n",
      "[100]\ttrain-rmse:2.21459\ttest-rmse:2.21741\n",
      "[150]\ttrain-rmse:1.37454\ttest-rmse:1.38102\n",
      "[200]\ttrain-rmse:0.882337\ttest-rmse:0.89538\n",
      "[250]\ttrain-rmse:0.605268\ttest-rmse:0.628277\n",
      "[299]\ttrain-rmse:0.461924\ttest-rmse:0.496197\n",
      "CV RMSE : train_rmse_mean = 0.461924 | test_rmse_mean = 0.4961973\n",
      "fine tuning reg_alpha = 0.011\n",
      "[0]\ttrain-rmse:5.95724\ttest-rmse:5.95725\n",
      "[50]\ttrain-rmse:3.62068\ttest-rmse:3.62167\n",
      "[100]\ttrain-rmse:2.21413\ttest-rmse:2.21692\n",
      "[150]\ttrain-rmse:1.37447\ttest-rmse:1.38089\n",
      "[200]\ttrain-rmse:0.882283\ttest-rmse:0.895341\n",
      "[250]\ttrain-rmse:0.605203\ttest-rmse:0.628194\n",
      "[299]\ttrain-rmse:0.461921\ttest-rmse:0.49619\n",
      "CV RMSE : train_rmse_mean = 0.4619207 | test_rmse_mean = 0.4961897\n",
      "fine tuning reg_alpha = 0.0115\n",
      "[0]\ttrain-rmse:5.95724\ttest-rmse:5.95725\n",
      "[50]\ttrain-rmse:3.62096\ttest-rmse:3.62199\n",
      "[100]\ttrain-rmse:2.21432\ttest-rmse:2.21709\n"
     ]
    },
    {
     "ename": "KeyboardInterrupt",
     "evalue": "",
     "output_type": "error",
     "traceback": [
      "\u001b[0;31m\u001b[0m",
      "\u001b[0;31mKeyboardInterrupt\u001b[0mTraceback (most recent call last)",
      "\u001b[0;32m<ipython-input-102-92f67255c4c8>\u001b[0m in \u001b[0;36m<module>\u001b[0;34m()\u001b[0m\n\u001b[0;32m----> 1\u001b[0;31m \u001b[0mxgb_params\u001b[0m \u001b[0;34m=\u001b[0m \u001b[0mfine_tune_param_cv\u001b[0m\u001b[0;34m(\u001b[0m\u001b[0mxgb_params\u001b[0m\u001b[0;34m,\u001b[0m \u001b[0;34m'reg_alpha'\u001b[0m\u001b[0;34m,\u001b[0m \u001b[0mcommon_num_range\u001b[0m\u001b[0;34m(\u001b[0m\u001b[0;36m0.005\u001b[0m\u001b[0;34m,\u001b[0m \u001b[0;36m0.02\u001b[0m\u001b[0;34m,\u001b[0m \u001b[0;36m0.0005\u001b[0m\u001b[0;34m)\u001b[0m\u001b[0;34m)\u001b[0m\u001b[0;34m\u001b[0m\u001b[0m\n\u001b[0m",
      "\u001b[0;32m<ipython-input-70-eeaaa172e4e0>\u001b[0m in \u001b[0;36mfine_tune_param_cv\u001b[0;34m(xgb_params, param, values)\u001b[0m\n\u001b[1;32m     12\u001b[0m                        \u001b[0mearly_stopping_rounds\u001b[0m\u001b[0;34m=\u001b[0m\u001b[0;36m50\u001b[0m\u001b[0;34m,\u001b[0m\u001b[0;34m\u001b[0m\u001b[0m\n\u001b[1;32m     13\u001b[0m                        \u001b[0mverbose_eval\u001b[0m\u001b[0;34m=\u001b[0m\u001b[0;36m50\u001b[0m\u001b[0;34m,\u001b[0m\u001b[0;34m\u001b[0m\u001b[0m\n\u001b[0;32m---> 14\u001b[0;31m                        \u001b[0mshow_stdv\u001b[0m\u001b[0;34m=\u001b[0m\u001b[0mFalse\u001b[0m\u001b[0;34m\u001b[0m\u001b[0m\n\u001b[0m\u001b[1;32m     15\u001b[0m                        )\n\u001b[1;32m     16\u001b[0m         \u001b[0mtrain_rmse_mean\u001b[0m \u001b[0;34m=\u001b[0m \u001b[0mcv_result\u001b[0m\u001b[0;34m[\u001b[0m\u001b[0;34m'train-rmse-mean'\u001b[0m\u001b[0;34m]\u001b[0m\u001b[0;34m.\u001b[0m\u001b[0mvalues\u001b[0m\u001b[0;34m[\u001b[0m\u001b[0;34m-\u001b[0m\u001b[0;36m1\u001b[0m\u001b[0;34m]\u001b[0m\u001b[0;34m\u001b[0m\u001b[0m\n",
      "\u001b[0;32m/usr/local/lib/python2.7/dist-packages/xgboost-0.6-py2.7.egg/xgboost/training.pyc\u001b[0m in \u001b[0;36mcv\u001b[0;34m(params, dtrain, num_boost_round, nfold, stratified, folds, metrics, obj, feval, maximize, early_stopping_rounds, fpreproc, as_pandas, verbose_eval, show_stdv, seed, callbacks, shuffle)\u001b[0m\n\u001b[1;32m    405\u001b[0m                            evaluation_result_list=None))\n\u001b[1;32m    406\u001b[0m         \u001b[0;32mfor\u001b[0m \u001b[0mfold\u001b[0m \u001b[0;32min\u001b[0m \u001b[0mcvfolds\u001b[0m\u001b[0;34m:\u001b[0m\u001b[0;34m\u001b[0m\u001b[0m\n\u001b[0;32m--> 407\u001b[0;31m             \u001b[0mfold\u001b[0m\u001b[0;34m.\u001b[0m\u001b[0mupdate\u001b[0m\u001b[0;34m(\u001b[0m\u001b[0mi\u001b[0m\u001b[0;34m,\u001b[0m \u001b[0mobj\u001b[0m\u001b[0;34m)\u001b[0m\u001b[0;34m\u001b[0m\u001b[0m\n\u001b[0m\u001b[1;32m    408\u001b[0m         \u001b[0mres\u001b[0m \u001b[0;34m=\u001b[0m \u001b[0maggcv\u001b[0m\u001b[0;34m(\u001b[0m\u001b[0;34m[\u001b[0m\u001b[0mf\u001b[0m\u001b[0;34m.\u001b[0m\u001b[0meval\u001b[0m\u001b[0;34m(\u001b[0m\u001b[0mi\u001b[0m\u001b[0;34m,\u001b[0m \u001b[0mfeval\u001b[0m\u001b[0;34m)\u001b[0m \u001b[0;32mfor\u001b[0m \u001b[0mf\u001b[0m \u001b[0;32min\u001b[0m \u001b[0mcvfolds\u001b[0m\u001b[0;34m]\u001b[0m\u001b[0;34m)\u001b[0m\u001b[0;34m\u001b[0m\u001b[0m\n\u001b[1;32m    409\u001b[0m \u001b[0;34m\u001b[0m\u001b[0m\n",
      "\u001b[0;32m/usr/local/lib/python2.7/dist-packages/xgboost-0.6-py2.7.egg/xgboost/training.pyc\u001b[0m in \u001b[0;36mupdate\u001b[0;34m(self, iteration, fobj)\u001b[0m\n\u001b[1;32m    216\u001b[0m     \u001b[0;32mdef\u001b[0m \u001b[0mupdate\u001b[0m\u001b[0;34m(\u001b[0m\u001b[0mself\u001b[0m\u001b[0;34m,\u001b[0m \u001b[0miteration\u001b[0m\u001b[0;34m,\u001b[0m \u001b[0mfobj\u001b[0m\u001b[0;34m)\u001b[0m\u001b[0;34m:\u001b[0m\u001b[0;34m\u001b[0m\u001b[0m\n\u001b[1;32m    217\u001b[0m         \u001b[0;34m\"\"\"\"Update the boosters for one iteration\"\"\"\u001b[0m\u001b[0;34m\u001b[0m\u001b[0m\n\u001b[0;32m--> 218\u001b[0;31m         \u001b[0mself\u001b[0m\u001b[0;34m.\u001b[0m\u001b[0mbst\u001b[0m\u001b[0;34m.\u001b[0m\u001b[0mupdate\u001b[0m\u001b[0;34m(\u001b[0m\u001b[0mself\u001b[0m\u001b[0;34m.\u001b[0m\u001b[0mdtrain\u001b[0m\u001b[0;34m,\u001b[0m \u001b[0miteration\u001b[0m\u001b[0;34m,\u001b[0m \u001b[0mfobj\u001b[0m\u001b[0;34m)\u001b[0m\u001b[0;34m\u001b[0m\u001b[0m\n\u001b[0m\u001b[1;32m    219\u001b[0m \u001b[0;34m\u001b[0m\u001b[0m\n\u001b[1;32m    220\u001b[0m     \u001b[0;32mdef\u001b[0m \u001b[0meval\u001b[0m\u001b[0;34m(\u001b[0m\u001b[0mself\u001b[0m\u001b[0;34m,\u001b[0m \u001b[0miteration\u001b[0m\u001b[0;34m,\u001b[0m \u001b[0mfeval\u001b[0m\u001b[0;34m)\u001b[0m\u001b[0;34m:\u001b[0m\u001b[0;34m\u001b[0m\u001b[0m\n",
      "\u001b[0;32m/usr/local/lib/python2.7/dist-packages/xgboost-0.6-py2.7.egg/xgboost/core.pyc\u001b[0m in \u001b[0;36mupdate\u001b[0;34m(self, dtrain, iteration, fobj)\u001b[0m\n\u001b[1;32m    817\u001b[0m \u001b[0;34m\u001b[0m\u001b[0m\n\u001b[1;32m    818\u001b[0m         \u001b[0;32mif\u001b[0m \u001b[0mfobj\u001b[0m \u001b[0;32mis\u001b[0m \u001b[0mNone\u001b[0m\u001b[0;34m:\u001b[0m\u001b[0;34m\u001b[0m\u001b[0m\n\u001b[0;32m--> 819\u001b[0;31m             \u001b[0m_check_call\u001b[0m\u001b[0;34m(\u001b[0m\u001b[0m_LIB\u001b[0m\u001b[0;34m.\u001b[0m\u001b[0mXGBoosterUpdateOneIter\u001b[0m\u001b[0;34m(\u001b[0m\u001b[0mself\u001b[0m\u001b[0;34m.\u001b[0m\u001b[0mhandle\u001b[0m\u001b[0;34m,\u001b[0m \u001b[0miteration\u001b[0m\u001b[0;34m,\u001b[0m \u001b[0mdtrain\u001b[0m\u001b[0;34m.\u001b[0m\u001b[0mhandle\u001b[0m\u001b[0;34m)\u001b[0m\u001b[0;34m)\u001b[0m\u001b[0;34m\u001b[0m\u001b[0m\n\u001b[0m\u001b[1;32m    820\u001b[0m         \u001b[0;32melse\u001b[0m\u001b[0;34m:\u001b[0m\u001b[0;34m\u001b[0m\u001b[0m\n\u001b[1;32m    821\u001b[0m             \u001b[0mpred\u001b[0m \u001b[0;34m=\u001b[0m \u001b[0mself\u001b[0m\u001b[0;34m.\u001b[0m\u001b[0mpredict\u001b[0m\u001b[0;34m(\u001b[0m\u001b[0mdtrain\u001b[0m\u001b[0;34m)\u001b[0m\u001b[0;34m\u001b[0m\u001b[0m\n",
      "\u001b[0;31mKeyboardInterrupt\u001b[0m: "
     ]
    }
   ],
   "source": [
    "xgb_params = fine_tune_param_cv(xgb_params, 'reg_alpha', common_num_range(0.005, 0.02, 0.0005))"
   ]
  },
  {
   "cell_type": "code",
   "execution_count": 108,
   "metadata": {
    "collapsed": true
   },
   "outputs": [],
   "source": [
    "xgb_params = {\n",
    "    'eta': 0.01,\n",
    "    'min_child_weight': 1,\n",
    "    'reg_lambda': 1,\n",
    "    \n",
    "    'reg_alpha': 0.0095,\n",
    "    'scale_pos_weight': 1,\n",
    "    'colsample_bytree': 1,\n",
    "    'subsample': 0.93,\n",
    "    'gamma': 0,\n",
    "    'max_depth': 8,\n",
    "    'objective': 'reg:linear',\n",
    "    'eval_metric': 'rmse',\n",
    "    'updater': 'grow_gpu',\n",
    "    'gpu_id': 1,\n",
    "    'nthread': -1,\n",
    "    'silent': 1\n",
    "}"
   ]
  },
  {
   "cell_type": "code",
   "execution_count": 110,
   "metadata": {},
   "outputs": [
    {
     "name": "stdout",
     "output_type": "stream",
     "text": [
      "{'reg_alpha': 0.0095, 'eval_metric': 'rmse', 'scale_pos_weight': 1, 'gpu_id': 1, 'updater': 'grow_gpu', 'colsample_bytree': 1, 'silent': 1, 'nthread': -1, 'min_child_weight': 1, 'subsample': 0.93, 'reg_lambda': 0.07, 'eta': 0.01, 'objective': 'reg:linear', 'max_depth': 8, 'gamma': 0}\n",
      "===> fine tuning reg_lambda...\n",
      "fine tuning reg_lambda = 0.005\n",
      "[0]\ttrain-rmse:5.95717\ttest-rmse:5.9572\n",
      "[50]\ttrain-rmse:3.61812\ttest-rmse:3.61972\n",
      "[100]\ttrain-rmse:2.20966\ttest-rmse:2.21414\n",
      "[150]\ttrain-rmse:1.36764\ttest-rmse:1.37762\n",
      "[200]\ttrain-rmse:0.87304\ttest-rmse:0.892406\n",
      "[250]\ttrain-rmse:0.593597\ttest-rmse:0.626539\n",
      "[299]\ttrain-rmse:0.447602\ttest-rmse:0.495331\n",
      "CV RMSE : train_rmse_mean = 0.447602 | test_rmse_mean = 0.4953307\n",
      "fine tuning reg_lambda = 0.006\n",
      "[0]\ttrain-rmse:5.95717\ttest-rmse:5.95719\n",
      "[50]\ttrain-rmse:3.61789\ttest-rmse:3.61942\n",
      "[100]\ttrain-rmse:2.20969\ttest-rmse:2.21407\n",
      "[150]\ttrain-rmse:1.3678\ttest-rmse:1.37765\n",
      "[200]\ttrain-rmse:0.873793\ttest-rmse:0.892989\n",
      "[250]\ttrain-rmse:0.593534\ttest-rmse:0.626298\n",
      "[299]\ttrain-rmse:0.447701\ttest-rmse:0.495103\n",
      "CV RMSE : train_rmse_mean = 0.447701 | test_rmse_mean = 0.495103\n",
      "fine tuning reg_lambda = 0.007\n",
      "[0]\ttrain-rmse:5.95717\ttest-rmse:5.95719\n",
      "[50]\ttrain-rmse:3.61813\ttest-rmse:3.6197\n",
      "[100]\ttrain-rmse:2.2098\ttest-rmse:2.21422\n",
      "[150]\ttrain-rmse:1.36784\ttest-rmse:1.37773\n",
      "[200]\ttrain-rmse:0.873223\ttest-rmse:0.89252\n",
      "[250]\ttrain-rmse:0.593755\ttest-rmse:0.626543\n",
      "[299]\ttrain-rmse:0.447738\ttest-rmse:0.495255\n",
      "CV RMSE : train_rmse_mean = 0.447738 | test_rmse_mean = 0.4952553\n",
      "best reg_lambda = 0.006, min_test_rmse_mean = 0.495103\n"
     ]
    }
   ],
   "source": [
    "xgb_params = fine_tune_param_cv(xgb_params, 'reg_lambda', [0.005, 0.006, 0.007])"
   ]
  },
  {
   "cell_type": "code",
   "execution_count": 112,
   "metadata": {},
   "outputs": [],
   "source": [
    "xgb_params = {\n",
    "    'eta': 0.01,\n",
    "    \n",
    "    'min_child_weight': 1,\n",
    "    'reg_lambda': 0.006,\n",
    "    'reg_alpha': 0.0095,\n",
    "    'scale_pos_weight': 1,\n",
    "    'colsample_bytree': 1,\n",
    "    'subsample': 0.93,\n",
    "    'gamma': 0,\n",
    "    'max_depth': 8,\n",
    "    'objective': 'reg:linear',\n",
    "    'eval_metric': 'rmse',\n",
    "    'updater': 'grow_gpu',\n",
    "    'gpu_id': 1,\n",
    "    'nthread': -1,\n",
    "    'silent': 1\n",
    "}"
   ]
  },
  {
   "cell_type": "code",
   "execution_count": 113,
   "metadata": {},
   "outputs": [
    {
     "name": "stdout",
     "output_type": "stream",
     "text": [
      "[0]\ttrain-rmse:5.95717\ttest-rmse:5.95719\n",
      "[50]\ttrain-rmse:3.61789\ttest-rmse:3.61942\n",
      "[100]\ttrain-rmse:2.20969\ttest-rmse:2.21407\n",
      "[150]\ttrain-rmse:1.3678\ttest-rmse:1.37765\n",
      "[200]\ttrain-rmse:0.873793\ttest-rmse:0.892989\n",
      "[250]\ttrain-rmse:0.593534\ttest-rmse:0.626298\n",
      "[299]\ttrain-rmse:0.447701\ttest-rmse:0.495103\n"
     ]
    }
   ],
   "source": [
    "cv_result = xgb.cv(dict(xgb_params),\n",
    "                   dtrain,\n",
    "                   num_boost_round=300,\n",
    "                   early_stopping_rounds=50,\n",
    "                   verbose_eval=50,\n",
    "                   show_stdv=False\n",
    "                   )"
   ]
  },
  {
   "cell_type": "code",
   "execution_count": null,
   "metadata": {
    "collapsed": true
   },
   "outputs": [],
   "source": []
  }
 ],
 "metadata": {
  "kernelspec": {
   "display_name": "Python 2",
   "language": "python",
   "name": "python2"
  },
  "language_info": {
   "codemirror_mode": {
    "name": "ipython",
    "version": 2
   },
   "file_extension": ".py",
   "mimetype": "text/x-python",
   "name": "python",
   "nbconvert_exporter": "python",
   "pygments_lexer": "ipython2",
   "version": "2.7.6"
  }
 },
 "nbformat": 4,
 "nbformat_minor": 2
}
